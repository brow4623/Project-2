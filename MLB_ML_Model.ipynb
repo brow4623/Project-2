{
 "cells": [
  {
   "cell_type": "code",
   "execution_count": 1,
   "metadata": {},
   "outputs": [],
   "source": [
    "# Imports\n",
    "import pandas as pd\n",
    "from pathlib import Path\n",
    "import tensorflow as tf\n",
    "from tensorflow.keras.layers import Dense\n",
    "from tensorflow.keras.models import Sequential\n",
    "from sklearn.model_selection import train_test_split\n",
    "from sklearn.preprocessing import StandardScaler,OneHotEncoder"
   ]
  },
  {
   "cell_type": "code",
   "execution_count": 2,
   "metadata": {},
   "outputs": [
    {
     "data": {
      "text/html": [
       "<div>\n",
       "<style scoped>\n",
       "    .dataframe tbody tr th:only-of-type {\n",
       "        vertical-align: middle;\n",
       "    }\n",
       "\n",
       "    .dataframe tbody tr th {\n",
       "        vertical-align: top;\n",
       "    }\n",
       "\n",
       "    .dataframe thead th {\n",
       "        text-align: right;\n",
       "    }\n",
       "</style>\n",
       "<table border=\"1\" class=\"dataframe\">\n",
       "  <thead>\n",
       "    <tr style=\"text-align: right;\">\n",
       "      <th></th>\n",
       "      <th>dt</th>\n",
       "      <th>Y</th>\n",
       "      <th>M</th>\n",
       "      <th>D</th>\n",
       "      <th>away_team</th>\n",
       "      <th>home_team</th>\n",
       "      <th>away_score</th>\n",
       "      <th>home_score</th>\n",
       "      <th>away_pitcher_id</th>\n",
       "      <th>home_pitcher_id</th>\n",
       "      <th>...</th>\n",
       "      <th>home_1_id</th>\n",
       "      <th>home_2_id</th>\n",
       "      <th>home_3_id</th>\n",
       "      <th>home_4_id</th>\n",
       "      <th>home_5_id</th>\n",
       "      <th>home_6_id</th>\n",
       "      <th>home_7_id</th>\n",
       "      <th>home_8_id</th>\n",
       "      <th>home_9_id</th>\n",
       "      <th>outcome</th>\n",
       "    </tr>\n",
       "  </thead>\n",
       "  <tbody>\n",
       "    <tr>\n",
       "      <th>0</th>\n",
       "      <td>2020-07-23</td>\n",
       "      <td>2020</td>\n",
       "      <td>7</td>\n",
       "      <td>23</td>\n",
       "      <td>SFN</td>\n",
       "      <td>LAN</td>\n",
       "      <td>1</td>\n",
       "      <td>8</td>\n",
       "      <td>cuetj001</td>\n",
       "      <td>may-d003</td>\n",
       "      <td>...</td>\n",
       "      <td>muncm001</td>\n",
       "      <td>bettm001</td>\n",
       "      <td>bellc002</td>\n",
       "      <td>turnj001</td>\n",
       "      <td>seagc001</td>\n",
       "      <td>herne001</td>\n",
       "      <td>pedej001</td>\n",
       "      <td>polla001</td>\n",
       "      <td>barna001</td>\n",
       "      <td>1</td>\n",
       "    </tr>\n",
       "    <tr>\n",
       "      <th>1</th>\n",
       "      <td>2020-07-23</td>\n",
       "      <td>2020</td>\n",
       "      <td>7</td>\n",
       "      <td>23</td>\n",
       "      <td>NYA</td>\n",
       "      <td>WAS</td>\n",
       "      <td>4</td>\n",
       "      <td>1</td>\n",
       "      <td>coleg001</td>\n",
       "      <td>schem001</td>\n",
       "      <td>...</td>\n",
       "      <td>turnt001</td>\n",
       "      <td>eatoa002</td>\n",
       "      <td>casts001</td>\n",
       "      <td>kendh001</td>\n",
       "      <td>thame001</td>\n",
       "      <td>suzuk001</td>\n",
       "      <td>cabra002</td>\n",
       "      <td>steva001</td>\n",
       "      <td>roblv001</td>\n",
       "      <td>0</td>\n",
       "    </tr>\n",
       "    <tr>\n",
       "      <th>2</th>\n",
       "      <td>2020-07-24</td>\n",
       "      <td>2020</td>\n",
       "      <td>7</td>\n",
       "      <td>24</td>\n",
       "      <td>COL</td>\n",
       "      <td>TEX</td>\n",
       "      <td>0</td>\n",
       "      <td>1</td>\n",
       "      <td>marqg001</td>\n",
       "      <td>lynnl001</td>\n",
       "      <td>...</td>\n",
       "      <td>choos001</td>\n",
       "      <td>andre001</td>\n",
       "      <td>santd001</td>\n",
       "      <td>gallj002</td>\n",
       "      <td>odorr001</td>\n",
       "      <td>frazt001</td>\n",
       "      <td>chirr001</td>\n",
       "      <td>solan001</td>\n",
       "      <td>kinei001</td>\n",
       "      <td>1</td>\n",
       "    </tr>\n",
       "    <tr>\n",
       "      <th>3</th>\n",
       "      <td>2020-07-24</td>\n",
       "      <td>2020</td>\n",
       "      <td>7</td>\n",
       "      <td>24</td>\n",
       "      <td>TOR</td>\n",
       "      <td>TBA</td>\n",
       "      <td>6</td>\n",
       "      <td>4</td>\n",
       "      <td>ryu-h001</td>\n",
       "      <td>mortc002</td>\n",
       "      <td>...</td>\n",
       "      <td>diazy001</td>\n",
       "      <td>renfh001</td>\n",
       "      <td>tsuty001</td>\n",
       "      <td>martj008</td>\n",
       "      <td>margm001</td>\n",
       "      <td>brosm001</td>\n",
       "      <td>adamw002</td>\n",
       "      <td>kierk001</td>\n",
       "      <td>zunim001</td>\n",
       "      <td>0</td>\n",
       "    </tr>\n",
       "    <tr>\n",
       "      <th>4</th>\n",
       "      <td>2020-07-24</td>\n",
       "      <td>2020</td>\n",
       "      <td>7</td>\n",
       "      <td>24</td>\n",
       "      <td>LAA</td>\n",
       "      <td>OAK</td>\n",
       "      <td>3</td>\n",
       "      <td>7</td>\n",
       "      <td>heLAA001</td>\n",
       "      <td>montf001</td>\n",
       "      <td>...</td>\n",
       "      <td>semim001</td>\n",
       "      <td>laurr001</td>\n",
       "      <td>chapm001</td>\n",
       "      <td>davik003</td>\n",
       "      <td>olsom001</td>\n",
       "      <td>pindc001</td>\n",
       "      <td>canhm001</td>\n",
       "      <td>piscs001</td>\n",
       "      <td>murps001</td>\n",
       "      <td>1</td>\n",
       "    </tr>\n",
       "  </tbody>\n",
       "</table>\n",
       "<p>5 rows × 29 columns</p>\n",
       "</div>"
      ],
      "text/plain": [
       "           dt     Y  M   D away_team home_team  away_score  home_score  \\\n",
       "0  2020-07-23  2020  7  23       SFN       LAN           1           8   \n",
       "1  2020-07-23  2020  7  23       NYA       WAS           4           1   \n",
       "2  2020-07-24  2020  7  24       COL       TEX           0           1   \n",
       "3  2020-07-24  2020  7  24       TOR       TBA           6           4   \n",
       "4  2020-07-24  2020  7  24       LAA       OAK           3           7   \n",
       "\n",
       "  away_pitcher_id home_pitcher_id  ... home_1_id home_2_id home_3_id  \\\n",
       "0        cuetj001        may-d003  ...  muncm001  bettm001  bellc002   \n",
       "1        coleg001        schem001  ...  turnt001  eatoa002  casts001   \n",
       "2        marqg001        lynnl001  ...  choos001  andre001  santd001   \n",
       "3        ryu-h001        mortc002  ...  diazy001  renfh001  tsuty001   \n",
       "4        heLAA001        montf001  ...  semim001  laurr001  chapm001   \n",
       "\n",
       "  home_4_id home_5_id home_6_id home_7_id home_8_id home_9_id outcome  \n",
       "0  turnj001  seagc001  herne001  pedej001  polla001  barna001       1  \n",
       "1  kendh001  thame001  suzuk001  cabra002  steva001  roblv001       0  \n",
       "2  gallj002  odorr001  frazt001  chirr001  solan001  kinei001       1  \n",
       "3  martj008  margm001  brosm001  adamw002  kierk001  zunim001       0  \n",
       "4  davik003  olsom001  pindc001  canhm001  piscs001  murps001       1  \n",
       "\n",
       "[5 rows x 29 columns]"
      ]
     },
     "execution_count": 2,
     "metadata": {},
     "output_type": "execute_result"
    }
   ],
   "source": [
    "# Read the applicants_data.csv file from the Resources folder into a Pandas DataFrame\n",
    "data = Path(\"GAME_LEVEL.csv\")\n",
    "df = pd.read_csv(data)\n",
    "df.head()\n",
    "\n"
   ]
  },
  {
   "cell_type": "code",
   "execution_count": 3,
   "metadata": {},
   "outputs": [
    {
     "name": "stdout",
     "output_type": "stream",
     "text": [
      "dt                 object\n",
      "Y                   int64\n",
      "M                   int64\n",
      "D                   int64\n",
      "away_team          object\n",
      "home_team          object\n",
      "away_score          int64\n",
      "home_score          int64\n",
      "away_pitcher_id    object\n",
      "home_pitcher_id    object\n",
      "away_1_id          object\n",
      "away_2_id          object\n",
      "away_3_id          object\n",
      "away_4_id          object\n",
      "away_5_id          object\n",
      "away_6_id          object\n",
      "away_7_id          object\n",
      "away_8_id          object\n",
      "away_9_id          object\n",
      "home_1_id          object\n",
      "home_2_id          object\n",
      "home_3_id          object\n",
      "home_4_id          object\n",
      "home_5_id          object\n",
      "home_6_id          object\n",
      "home_7_id          object\n",
      "home_8_id          object\n",
      "home_9_id          object\n",
      "outcome             int64\n",
      "dtype: object\n"
     ]
    }
   ],
   "source": [
    "# Review the data types associated with the columns\n",
    "print(df.dtypes)"
   ]
  },
  {
   "cell_type": "code",
   "execution_count": 4,
   "metadata": {},
   "outputs": [
    {
     "data": {
      "text/html": [
       "<div>\n",
       "<style scoped>\n",
       "    .dataframe tbody tr th:only-of-type {\n",
       "        vertical-align: middle;\n",
       "    }\n",
       "\n",
       "    .dataframe tbody tr th {\n",
       "        vertical-align: top;\n",
       "    }\n",
       "\n",
       "    .dataframe thead th {\n",
       "        text-align: right;\n",
       "    }\n",
       "</style>\n",
       "<table border=\"1\" class=\"dataframe\">\n",
       "  <thead>\n",
       "    <tr style=\"text-align: right;\">\n",
       "      <th></th>\n",
       "      <th>away_team</th>\n",
       "      <th>home_team</th>\n",
       "      <th>away_score</th>\n",
       "      <th>home_score</th>\n",
       "      <th>away_pitcher_id</th>\n",
       "      <th>home_pitcher_id</th>\n",
       "      <th>away_1_id</th>\n",
       "      <th>away_2_id</th>\n",
       "      <th>away_3_id</th>\n",
       "      <th>away_4_id</th>\n",
       "      <th>...</th>\n",
       "      <th>home_1_id</th>\n",
       "      <th>home_2_id</th>\n",
       "      <th>home_3_id</th>\n",
       "      <th>home_4_id</th>\n",
       "      <th>home_5_id</th>\n",
       "      <th>home_6_id</th>\n",
       "      <th>home_7_id</th>\n",
       "      <th>home_8_id</th>\n",
       "      <th>home_9_id</th>\n",
       "      <th>outcome</th>\n",
       "    </tr>\n",
       "  </thead>\n",
       "  <tbody>\n",
       "    <tr>\n",
       "      <th>0</th>\n",
       "      <td>SFN</td>\n",
       "      <td>LAN</td>\n",
       "      <td>1</td>\n",
       "      <td>8</td>\n",
       "      <td>cuetj001</td>\n",
       "      <td>may-d003</td>\n",
       "      <td>yastm001</td>\n",
       "      <td>florw001</td>\n",
       "      <td>sandp001</td>\n",
       "      <td>dicka001</td>\n",
       "      <td>...</td>\n",
       "      <td>muncm001</td>\n",
       "      <td>bettm001</td>\n",
       "      <td>bellc002</td>\n",
       "      <td>turnj001</td>\n",
       "      <td>seagc001</td>\n",
       "      <td>herne001</td>\n",
       "      <td>pedej001</td>\n",
       "      <td>polla001</td>\n",
       "      <td>barna001</td>\n",
       "      <td>1</td>\n",
       "    </tr>\n",
       "    <tr>\n",
       "      <th>1</th>\n",
       "      <td>NYA</td>\n",
       "      <td>WAS</td>\n",
       "      <td>4</td>\n",
       "      <td>1</td>\n",
       "      <td>coleg001</td>\n",
       "      <td>schem001</td>\n",
       "      <td>hicka001</td>\n",
       "      <td>judga001</td>\n",
       "      <td>torrg001</td>\n",
       "      <td>stanm004</td>\n",
       "      <td>...</td>\n",
       "      <td>turnt001</td>\n",
       "      <td>eatoa002</td>\n",
       "      <td>casts001</td>\n",
       "      <td>kendh001</td>\n",
       "      <td>thame001</td>\n",
       "      <td>suzuk001</td>\n",
       "      <td>cabra002</td>\n",
       "      <td>steva001</td>\n",
       "      <td>roblv001</td>\n",
       "      <td>0</td>\n",
       "    </tr>\n",
       "    <tr>\n",
       "      <th>2</th>\n",
       "      <td>COL</td>\n",
       "      <td>TEX</td>\n",
       "      <td>0</td>\n",
       "      <td>1</td>\n",
       "      <td>marqg001</td>\n",
       "      <td>lynnl001</td>\n",
       "      <td>dahld001</td>\n",
       "      <td>stort001</td>\n",
       "      <td>blacc001</td>\n",
       "      <td>arenn001</td>\n",
       "      <td>...</td>\n",
       "      <td>choos001</td>\n",
       "      <td>andre001</td>\n",
       "      <td>santd001</td>\n",
       "      <td>gallj002</td>\n",
       "      <td>odorr001</td>\n",
       "      <td>frazt001</td>\n",
       "      <td>chirr001</td>\n",
       "      <td>solan001</td>\n",
       "      <td>kinei001</td>\n",
       "      <td>1</td>\n",
       "    </tr>\n",
       "    <tr>\n",
       "      <th>3</th>\n",
       "      <td>TOR</td>\n",
       "      <td>TBA</td>\n",
       "      <td>6</td>\n",
       "      <td>4</td>\n",
       "      <td>ryu-h001</td>\n",
       "      <td>mortc002</td>\n",
       "      <td>bichb001</td>\n",
       "      <td>biggc002</td>\n",
       "      <td>guerv002</td>\n",
       "      <td>shawt001</td>\n",
       "      <td>...</td>\n",
       "      <td>diazy001</td>\n",
       "      <td>renfh001</td>\n",
       "      <td>tsuty001</td>\n",
       "      <td>martj008</td>\n",
       "      <td>margm001</td>\n",
       "      <td>brosm001</td>\n",
       "      <td>adamw002</td>\n",
       "      <td>kierk001</td>\n",
       "      <td>zunim001</td>\n",
       "      <td>0</td>\n",
       "    </tr>\n",
       "    <tr>\n",
       "      <th>4</th>\n",
       "      <td>LAA</td>\n",
       "      <td>OAK</td>\n",
       "      <td>3</td>\n",
       "      <td>7</td>\n",
       "      <td>heLAA001</td>\n",
       "      <td>montf001</td>\n",
       "      <td>fletd002</td>\n",
       "      <td>troum001</td>\n",
       "      <td>ohtas001</td>\n",
       "      <td>uptoj001</td>\n",
       "      <td>...</td>\n",
       "      <td>semim001</td>\n",
       "      <td>laurr001</td>\n",
       "      <td>chapm001</td>\n",
       "      <td>davik003</td>\n",
       "      <td>olsom001</td>\n",
       "      <td>pindc001</td>\n",
       "      <td>canhm001</td>\n",
       "      <td>piscs001</td>\n",
       "      <td>murps001</td>\n",
       "      <td>1</td>\n",
       "    </tr>\n",
       "  </tbody>\n",
       "</table>\n",
       "<p>5 rows × 25 columns</p>\n",
       "</div>"
      ],
      "text/plain": [
       "  away_team home_team  away_score  home_score away_pitcher_id home_pitcher_id  \\\n",
       "0       SFN       LAN           1           8        cuetj001        may-d003   \n",
       "1       NYA       WAS           4           1        coleg001        schem001   \n",
       "2       COL       TEX           0           1        marqg001        lynnl001   \n",
       "3       TOR       TBA           6           4        ryu-h001        mortc002   \n",
       "4       LAA       OAK           3           7        heLAA001        montf001   \n",
       "\n",
       "  away_1_id away_2_id away_3_id away_4_id  ... home_1_id home_2_id home_3_id  \\\n",
       "0  yastm001  florw001  sandp001  dicka001  ...  muncm001  bettm001  bellc002   \n",
       "1  hicka001  judga001  torrg001  stanm004  ...  turnt001  eatoa002  casts001   \n",
       "2  dahld001  stort001  blacc001  arenn001  ...  choos001  andre001  santd001   \n",
       "3  bichb001  biggc002  guerv002  shawt001  ...  diazy001  renfh001  tsuty001   \n",
       "4  fletd002  troum001  ohtas001  uptoj001  ...  semim001  laurr001  chapm001   \n",
       "\n",
       "  home_4_id home_5_id home_6_id home_7_id home_8_id home_9_id outcome  \n",
       "0  turnj001  seagc001  herne001  pedej001  polla001  barna001       1  \n",
       "1  kendh001  thame001  suzuk001  cabra002  steva001  roblv001       0  \n",
       "2  gallj002  odorr001  frazt001  chirr001  solan001  kinei001       1  \n",
       "3  martj008  margm001  brosm001  adamw002  kierk001  zunim001       0  \n",
       "4  davik003  olsom001  pindc001  canhm001  piscs001  murps001       1  \n",
       "\n",
       "[5 rows x 25 columns]"
      ]
     },
     "execution_count": 4,
     "metadata": {},
     "output_type": "execute_result"
    }
   ],
   "source": [
    "# Drop the 'EIN' and 'NAME' columns from the DataFrame\n",
    "df2 = df.drop(columns = ['dt','Y','M','D'])\n",
    "\n",
    "# Review the DataFrame\n",
    "df2.head()\n"
   ]
  },
  {
   "cell_type": "code",
   "execution_count": 5,
   "metadata": {},
   "outputs": [],
   "source": [
    "# # Create a list of categorical variables \n",
    "# categorical_variables = df2.drop(columns = ['STATUS','ASK_AMT','IS_SUCCESSFUL'])\n",
    "# categorical_names = ['APPLICATION_TYPE','AFFILIATION','CLASSIFICATION','USE_CASE','ORGANIZATION','INCOME_AMT','SPECIAL_CONSIDERATIONS']\n",
    "# # Display the categorical variables list\n",
    "# categorical_variables.head()\n",
    "\n",
    "categorical_variables = df2[['away_team','home_team','away_pitcher_id','home_pitcher_id','home_1_id','home_2_id','home_3_id','home_4_id','home_5_id','home_6_id','home_7_id','home_8_id','home_9_id','away_1_id','away_2_id','away_3_id','away_4_id','away_5_id','away_6_id','away_7_id','away_8_id','away_9_id']]\n",
    "df2 = df2.drop(columns = ['away_team','home_team','away_pitcher_id','home_pitcher_id','home_1_id','home_2_id','home_3_id','home_4_id','home_5_id','home_6_id','home_7_id','home_8_id','home_9_id','away_1_id','away_2_id','away_3_id','away_4_id','away_5_id','away_6_id','away_7_id','away_8_id','away_9_id'])"
   ]
  },
  {
   "cell_type": "code",
   "execution_count": 6,
   "metadata": {},
   "outputs": [],
   "source": [
    "# Create a OneHotEncoder instance\n",
    "enc =  OneHotEncoder()\n"
   ]
  },
  {
   "cell_type": "code",
   "execution_count": 7,
   "metadata": {},
   "outputs": [
    {
     "name": "stdout",
     "output_type": "stream",
     "text": [
      "(5746, 9984)\n"
     ]
    }
   ],
   "source": [
    "# Encode the categorcal variables using OneHotEncoder\n",
    "encoded_data = enc.fit_transform(categorical_variables)\n",
    "print(encoded_data.shape)\n",
    "# print(categorical_variables)\n",
    "\n"
   ]
  },
  {
   "cell_type": "code",
   "execution_count": 8,
   "metadata": {},
   "outputs": [
    {
     "name": "stderr",
     "output_type": "stream",
     "text": [
      "C:\\Users\\mbdaw\\anaconda3\\envs\\alpacaenv\\lib\\site-packages\\sklearn\\utils\\deprecation.py:87: FutureWarning: Function get_feature_names is deprecated; get_feature_names is deprecated in 1.0 and will be removed in 1.2. Please use get_feature_names_out instead.\n",
      "  warnings.warn(msg, category=FutureWarning)\n"
     ]
    },
    {
     "data": {
      "text/html": [
       "<div>\n",
       "<style scoped>\n",
       "    .dataframe tbody tr th:only-of-type {\n",
       "        vertical-align: middle;\n",
       "    }\n",
       "\n",
       "    .dataframe tbody tr th {\n",
       "        vertical-align: top;\n",
       "    }\n",
       "\n",
       "    .dataframe thead th {\n",
       "        text-align: right;\n",
       "    }\n",
       "</style>\n",
       "<table border=\"1\" class=\"dataframe\">\n",
       "  <thead>\n",
       "    <tr style=\"text-align: right;\">\n",
       "      <th></th>\n",
       "      <th>away_team_ARI</th>\n",
       "      <th>away_team_ATL</th>\n",
       "      <th>away_team_BAL</th>\n",
       "      <th>away_team_BOS</th>\n",
       "      <th>away_team_CHA</th>\n",
       "      <th>away_team_CHN</th>\n",
       "      <th>away_team_CIN</th>\n",
       "      <th>away_team_CLE</th>\n",
       "      <th>away_team_COL</th>\n",
       "      <th>away_team_DET</th>\n",
       "      <th>...</th>\n",
       "      <th>away_9_id_wynna001</th>\n",
       "      <th>away_9_id_yamaj001</th>\n",
       "      <th>away_9_id_yarbr001</th>\n",
       "      <th>away_9_id_yastm001</th>\n",
       "      <th>away_9_id_ynoah001</th>\n",
       "      <th>away_9_id_youna002</th>\n",
       "      <th>away_9_id_zavas001</th>\n",
       "      <th>away_9_id_zimmb001</th>\n",
       "      <th>away_9_id_zimmb002</th>\n",
       "      <th>away_9_id_zunim001</th>\n",
       "    </tr>\n",
       "  </thead>\n",
       "  <tbody>\n",
       "    <tr>\n",
       "      <th>0</th>\n",
       "      <td>0.0</td>\n",
       "      <td>0.0</td>\n",
       "      <td>0.0</td>\n",
       "      <td>0.0</td>\n",
       "      <td>0.0</td>\n",
       "      <td>0.0</td>\n",
       "      <td>0.0</td>\n",
       "      <td>0.0</td>\n",
       "      <td>0.0</td>\n",
       "      <td>0.0</td>\n",
       "      <td>...</td>\n",
       "      <td>0.0</td>\n",
       "      <td>0.0</td>\n",
       "      <td>0.0</td>\n",
       "      <td>0.0</td>\n",
       "      <td>0.0</td>\n",
       "      <td>0.0</td>\n",
       "      <td>0.0</td>\n",
       "      <td>0.0</td>\n",
       "      <td>0.0</td>\n",
       "      <td>0.0</td>\n",
       "    </tr>\n",
       "    <tr>\n",
       "      <th>1</th>\n",
       "      <td>0.0</td>\n",
       "      <td>0.0</td>\n",
       "      <td>0.0</td>\n",
       "      <td>0.0</td>\n",
       "      <td>0.0</td>\n",
       "      <td>0.0</td>\n",
       "      <td>0.0</td>\n",
       "      <td>0.0</td>\n",
       "      <td>0.0</td>\n",
       "      <td>0.0</td>\n",
       "      <td>...</td>\n",
       "      <td>0.0</td>\n",
       "      <td>0.0</td>\n",
       "      <td>0.0</td>\n",
       "      <td>0.0</td>\n",
       "      <td>0.0</td>\n",
       "      <td>0.0</td>\n",
       "      <td>0.0</td>\n",
       "      <td>0.0</td>\n",
       "      <td>0.0</td>\n",
       "      <td>0.0</td>\n",
       "    </tr>\n",
       "    <tr>\n",
       "      <th>2</th>\n",
       "      <td>0.0</td>\n",
       "      <td>0.0</td>\n",
       "      <td>0.0</td>\n",
       "      <td>0.0</td>\n",
       "      <td>0.0</td>\n",
       "      <td>0.0</td>\n",
       "      <td>0.0</td>\n",
       "      <td>0.0</td>\n",
       "      <td>1.0</td>\n",
       "      <td>0.0</td>\n",
       "      <td>...</td>\n",
       "      <td>0.0</td>\n",
       "      <td>0.0</td>\n",
       "      <td>0.0</td>\n",
       "      <td>0.0</td>\n",
       "      <td>0.0</td>\n",
       "      <td>0.0</td>\n",
       "      <td>0.0</td>\n",
       "      <td>0.0</td>\n",
       "      <td>0.0</td>\n",
       "      <td>0.0</td>\n",
       "    </tr>\n",
       "    <tr>\n",
       "      <th>3</th>\n",
       "      <td>0.0</td>\n",
       "      <td>0.0</td>\n",
       "      <td>0.0</td>\n",
       "      <td>0.0</td>\n",
       "      <td>0.0</td>\n",
       "      <td>0.0</td>\n",
       "      <td>0.0</td>\n",
       "      <td>0.0</td>\n",
       "      <td>0.0</td>\n",
       "      <td>0.0</td>\n",
       "      <td>...</td>\n",
       "      <td>0.0</td>\n",
       "      <td>0.0</td>\n",
       "      <td>0.0</td>\n",
       "      <td>0.0</td>\n",
       "      <td>0.0</td>\n",
       "      <td>0.0</td>\n",
       "      <td>0.0</td>\n",
       "      <td>0.0</td>\n",
       "      <td>0.0</td>\n",
       "      <td>0.0</td>\n",
       "    </tr>\n",
       "    <tr>\n",
       "      <th>4</th>\n",
       "      <td>0.0</td>\n",
       "      <td>0.0</td>\n",
       "      <td>0.0</td>\n",
       "      <td>0.0</td>\n",
       "      <td>0.0</td>\n",
       "      <td>0.0</td>\n",
       "      <td>0.0</td>\n",
       "      <td>0.0</td>\n",
       "      <td>0.0</td>\n",
       "      <td>0.0</td>\n",
       "      <td>...</td>\n",
       "      <td>0.0</td>\n",
       "      <td>0.0</td>\n",
       "      <td>0.0</td>\n",
       "      <td>0.0</td>\n",
       "      <td>0.0</td>\n",
       "      <td>0.0</td>\n",
       "      <td>0.0</td>\n",
       "      <td>0.0</td>\n",
       "      <td>0.0</td>\n",
       "      <td>0.0</td>\n",
       "    </tr>\n",
       "  </tbody>\n",
       "</table>\n",
       "<p>5 rows × 9984 columns</p>\n",
       "</div>"
      ],
      "text/plain": [
       "   away_team_ARI  away_team_ATL  away_team_BAL  away_team_BOS  away_team_CHA  \\\n",
       "0            0.0            0.0            0.0            0.0            0.0   \n",
       "1            0.0            0.0            0.0            0.0            0.0   \n",
       "2            0.0            0.0            0.0            0.0            0.0   \n",
       "3            0.0            0.0            0.0            0.0            0.0   \n",
       "4            0.0            0.0            0.0            0.0            0.0   \n",
       "\n",
       "   away_team_CHN  away_team_CIN  away_team_CLE  away_team_COL  away_team_DET  \\\n",
       "0            0.0            0.0            0.0            0.0            0.0   \n",
       "1            0.0            0.0            0.0            0.0            0.0   \n",
       "2            0.0            0.0            0.0            1.0            0.0   \n",
       "3            0.0            0.0            0.0            0.0            0.0   \n",
       "4            0.0            0.0            0.0            0.0            0.0   \n",
       "\n",
       "   ...  away_9_id_wynna001  away_9_id_yamaj001  away_9_id_yarbr001  \\\n",
       "0  ...                 0.0                 0.0                 0.0   \n",
       "1  ...                 0.0                 0.0                 0.0   \n",
       "2  ...                 0.0                 0.0                 0.0   \n",
       "3  ...                 0.0                 0.0                 0.0   \n",
       "4  ...                 0.0                 0.0                 0.0   \n",
       "\n",
       "   away_9_id_yastm001  away_9_id_ynoah001  away_9_id_youna002  \\\n",
       "0                 0.0                 0.0                 0.0   \n",
       "1                 0.0                 0.0                 0.0   \n",
       "2                 0.0                 0.0                 0.0   \n",
       "3                 0.0                 0.0                 0.0   \n",
       "4                 0.0                 0.0                 0.0   \n",
       "\n",
       "   away_9_id_zavas001  away_9_id_zimmb001  away_9_id_zimmb002  \\\n",
       "0                 0.0                 0.0                 0.0   \n",
       "1                 0.0                 0.0                 0.0   \n",
       "2                 0.0                 0.0                 0.0   \n",
       "3                 0.0                 0.0                 0.0   \n",
       "4                 0.0                 0.0                 0.0   \n",
       "\n",
       "   away_9_id_zunim001  \n",
       "0                 0.0  \n",
       "1                 0.0  \n",
       "2                 0.0  \n",
       "3                 0.0  \n",
       "4                 0.0  \n",
       "\n",
       "[5 rows x 9984 columns]"
      ]
     },
     "execution_count": 8,
     "metadata": {},
     "output_type": "execute_result"
    }
   ],
   "source": [
    "# Create a DataFrame with the encoded variables\n",
    "encoded_df = pd.DataFrame(\n",
    "    encoded_data.toarray(),\n",
    "    columns = enc.get_feature_names(['away_team','home_team','away_pitcher_id','home_pitcher_id','home_1_id','home_2_id','home_3_id','home_4_id','home_5_id','home_6_id','home_7_id','home_8_id','home_9_id','away_1_id','away_2_id','away_3_id','away_4_id','away_5_id','away_6_id','away_7_id','away_8_id','away_9_id'])\n",
    ")\n",
    "\n",
    "# Display  data\n",
    "encoded_df.head()"
   ]
  },
  {
   "cell_type": "code",
   "execution_count": 9,
   "metadata": {},
   "outputs": [
    {
     "data": {
      "text/html": [
       "<div>\n",
       "<style scoped>\n",
       "    .dataframe tbody tr th:only-of-type {\n",
       "        vertical-align: middle;\n",
       "    }\n",
       "\n",
       "    .dataframe tbody tr th {\n",
       "        vertical-align: top;\n",
       "    }\n",
       "\n",
       "    .dataframe thead th {\n",
       "        text-align: right;\n",
       "    }\n",
       "</style>\n",
       "<table border=\"1\" class=\"dataframe\">\n",
       "  <thead>\n",
       "    <tr style=\"text-align: right;\">\n",
       "      <th></th>\n",
       "      <th>away_team_ARI</th>\n",
       "      <th>away_team_ATL</th>\n",
       "      <th>away_team_BAL</th>\n",
       "      <th>away_team_BOS</th>\n",
       "      <th>away_team_CHA</th>\n",
       "      <th>away_team_CHN</th>\n",
       "      <th>away_team_CIN</th>\n",
       "      <th>away_team_CLE</th>\n",
       "      <th>away_team_COL</th>\n",
       "      <th>away_team_DET</th>\n",
       "      <th>...</th>\n",
       "      <th>away_9_id_yastm001</th>\n",
       "      <th>away_9_id_ynoah001</th>\n",
       "      <th>away_9_id_youna002</th>\n",
       "      <th>away_9_id_zavas001</th>\n",
       "      <th>away_9_id_zimmb001</th>\n",
       "      <th>away_9_id_zimmb002</th>\n",
       "      <th>away_9_id_zunim001</th>\n",
       "      <th>away_score</th>\n",
       "      <th>home_score</th>\n",
       "      <th>outcome</th>\n",
       "    </tr>\n",
       "  </thead>\n",
       "  <tbody>\n",
       "    <tr>\n",
       "      <th>0</th>\n",
       "      <td>0.0</td>\n",
       "      <td>0.0</td>\n",
       "      <td>0.0</td>\n",
       "      <td>0.0</td>\n",
       "      <td>0.0</td>\n",
       "      <td>0.0</td>\n",
       "      <td>0.0</td>\n",
       "      <td>0.0</td>\n",
       "      <td>0.0</td>\n",
       "      <td>0.0</td>\n",
       "      <td>...</td>\n",
       "      <td>0.0</td>\n",
       "      <td>0.0</td>\n",
       "      <td>0.0</td>\n",
       "      <td>0.0</td>\n",
       "      <td>0.0</td>\n",
       "      <td>0.0</td>\n",
       "      <td>0.0</td>\n",
       "      <td>1</td>\n",
       "      <td>8</td>\n",
       "      <td>1</td>\n",
       "    </tr>\n",
       "    <tr>\n",
       "      <th>1</th>\n",
       "      <td>0.0</td>\n",
       "      <td>0.0</td>\n",
       "      <td>0.0</td>\n",
       "      <td>0.0</td>\n",
       "      <td>0.0</td>\n",
       "      <td>0.0</td>\n",
       "      <td>0.0</td>\n",
       "      <td>0.0</td>\n",
       "      <td>0.0</td>\n",
       "      <td>0.0</td>\n",
       "      <td>...</td>\n",
       "      <td>0.0</td>\n",
       "      <td>0.0</td>\n",
       "      <td>0.0</td>\n",
       "      <td>0.0</td>\n",
       "      <td>0.0</td>\n",
       "      <td>0.0</td>\n",
       "      <td>0.0</td>\n",
       "      <td>4</td>\n",
       "      <td>1</td>\n",
       "      <td>0</td>\n",
       "    </tr>\n",
       "    <tr>\n",
       "      <th>2</th>\n",
       "      <td>0.0</td>\n",
       "      <td>0.0</td>\n",
       "      <td>0.0</td>\n",
       "      <td>0.0</td>\n",
       "      <td>0.0</td>\n",
       "      <td>0.0</td>\n",
       "      <td>0.0</td>\n",
       "      <td>0.0</td>\n",
       "      <td>1.0</td>\n",
       "      <td>0.0</td>\n",
       "      <td>...</td>\n",
       "      <td>0.0</td>\n",
       "      <td>0.0</td>\n",
       "      <td>0.0</td>\n",
       "      <td>0.0</td>\n",
       "      <td>0.0</td>\n",
       "      <td>0.0</td>\n",
       "      <td>0.0</td>\n",
       "      <td>0</td>\n",
       "      <td>1</td>\n",
       "      <td>1</td>\n",
       "    </tr>\n",
       "    <tr>\n",
       "      <th>3</th>\n",
       "      <td>0.0</td>\n",
       "      <td>0.0</td>\n",
       "      <td>0.0</td>\n",
       "      <td>0.0</td>\n",
       "      <td>0.0</td>\n",
       "      <td>0.0</td>\n",
       "      <td>0.0</td>\n",
       "      <td>0.0</td>\n",
       "      <td>0.0</td>\n",
       "      <td>0.0</td>\n",
       "      <td>...</td>\n",
       "      <td>0.0</td>\n",
       "      <td>0.0</td>\n",
       "      <td>0.0</td>\n",
       "      <td>0.0</td>\n",
       "      <td>0.0</td>\n",
       "      <td>0.0</td>\n",
       "      <td>0.0</td>\n",
       "      <td>6</td>\n",
       "      <td>4</td>\n",
       "      <td>0</td>\n",
       "    </tr>\n",
       "    <tr>\n",
       "      <th>4</th>\n",
       "      <td>0.0</td>\n",
       "      <td>0.0</td>\n",
       "      <td>0.0</td>\n",
       "      <td>0.0</td>\n",
       "      <td>0.0</td>\n",
       "      <td>0.0</td>\n",
       "      <td>0.0</td>\n",
       "      <td>0.0</td>\n",
       "      <td>0.0</td>\n",
       "      <td>0.0</td>\n",
       "      <td>...</td>\n",
       "      <td>0.0</td>\n",
       "      <td>0.0</td>\n",
       "      <td>0.0</td>\n",
       "      <td>0.0</td>\n",
       "      <td>0.0</td>\n",
       "      <td>0.0</td>\n",
       "      <td>0.0</td>\n",
       "      <td>3</td>\n",
       "      <td>7</td>\n",
       "      <td>1</td>\n",
       "    </tr>\n",
       "  </tbody>\n",
       "</table>\n",
       "<p>5 rows × 9987 columns</p>\n",
       "</div>"
      ],
      "text/plain": [
       "   away_team_ARI  away_team_ATL  away_team_BAL  away_team_BOS  away_team_CHA  \\\n",
       "0            0.0            0.0            0.0            0.0            0.0   \n",
       "1            0.0            0.0            0.0            0.0            0.0   \n",
       "2            0.0            0.0            0.0            0.0            0.0   \n",
       "3            0.0            0.0            0.0            0.0            0.0   \n",
       "4            0.0            0.0            0.0            0.0            0.0   \n",
       "\n",
       "   away_team_CHN  away_team_CIN  away_team_CLE  away_team_COL  away_team_DET  \\\n",
       "0            0.0            0.0            0.0            0.0            0.0   \n",
       "1            0.0            0.0            0.0            0.0            0.0   \n",
       "2            0.0            0.0            0.0            1.0            0.0   \n",
       "3            0.0            0.0            0.0            0.0            0.0   \n",
       "4            0.0            0.0            0.0            0.0            0.0   \n",
       "\n",
       "   ...  away_9_id_yastm001  away_9_id_ynoah001  away_9_id_youna002  \\\n",
       "0  ...                 0.0                 0.0                 0.0   \n",
       "1  ...                 0.0                 0.0                 0.0   \n",
       "2  ...                 0.0                 0.0                 0.0   \n",
       "3  ...                 0.0                 0.0                 0.0   \n",
       "4  ...                 0.0                 0.0                 0.0   \n",
       "\n",
       "   away_9_id_zavas001  away_9_id_zimmb001  away_9_id_zimmb002  \\\n",
       "0                 0.0                 0.0                 0.0   \n",
       "1                 0.0                 0.0                 0.0   \n",
       "2                 0.0                 0.0                 0.0   \n",
       "3                 0.0                 0.0                 0.0   \n",
       "4                 0.0                 0.0                 0.0   \n",
       "\n",
       "   away_9_id_zunim001  away_score  home_score  outcome  \n",
       "0                 0.0           1           8        1  \n",
       "1                 0.0           4           1        0  \n",
       "2                 0.0           0           1        1  \n",
       "3                 0.0           6           4        0  \n",
       "4                 0.0           3           7        1  \n",
       "\n",
       "[5 rows x 9987 columns]"
      ]
     },
     "execution_count": 9,
     "metadata": {},
     "output_type": "execute_result"
    }
   ],
   "source": [
    "# Add the numerical variables from the original DataFrame to the one-hot encoding DataFrame\n",
    "encoded_df = pd.concat([encoded_df,df2],axis =1)\n",
    "\n",
    "# Review the Dataframe\n",
    "encoded_df.head()\n"
   ]
  },
  {
   "cell_type": "markdown",
   "metadata": {},
   "source": []
  },
  {
   "cell_type": "code",
   "execution_count": 10,
   "metadata": {},
   "outputs": [
    {
     "data": {
      "text/plain": [
       "0    1\n",
       "1    0\n",
       "2    1\n",
       "3    0\n",
       "4    1\n",
       "Name: outcome, dtype: int64"
      ]
     },
     "execution_count": 10,
     "metadata": {},
     "output_type": "execute_result"
    }
   ],
   "source": [
    "\n",
    "y = encoded_df['outcome']\n",
    "\n",
    "# Display a sample of y\n",
    "y.head()\n"
   ]
  },
  {
   "cell_type": "code",
   "execution_count": 11,
   "metadata": {},
   "outputs": [
    {
     "data": {
      "text/html": [
       "<div>\n",
       "<style scoped>\n",
       "    .dataframe tbody tr th:only-of-type {\n",
       "        vertical-align: middle;\n",
       "    }\n",
       "\n",
       "    .dataframe tbody tr th {\n",
       "        vertical-align: top;\n",
       "    }\n",
       "\n",
       "    .dataframe thead th {\n",
       "        text-align: right;\n",
       "    }\n",
       "</style>\n",
       "<table border=\"1\" class=\"dataframe\">\n",
       "  <thead>\n",
       "    <tr style=\"text-align: right;\">\n",
       "      <th></th>\n",
       "      <th>away_team_ARI</th>\n",
       "      <th>away_team_ATL</th>\n",
       "      <th>away_team_BAL</th>\n",
       "      <th>away_team_BOS</th>\n",
       "      <th>away_team_CHA</th>\n",
       "      <th>away_team_CHN</th>\n",
       "      <th>away_team_CIN</th>\n",
       "      <th>away_team_CLE</th>\n",
       "      <th>away_team_COL</th>\n",
       "      <th>away_team_DET</th>\n",
       "      <th>...</th>\n",
       "      <th>away_9_id_yarbr001</th>\n",
       "      <th>away_9_id_yastm001</th>\n",
       "      <th>away_9_id_ynoah001</th>\n",
       "      <th>away_9_id_youna002</th>\n",
       "      <th>away_9_id_zavas001</th>\n",
       "      <th>away_9_id_zimmb001</th>\n",
       "      <th>away_9_id_zimmb002</th>\n",
       "      <th>away_9_id_zunim001</th>\n",
       "      <th>away_score</th>\n",
       "      <th>home_score</th>\n",
       "    </tr>\n",
       "  </thead>\n",
       "  <tbody>\n",
       "    <tr>\n",
       "      <th>0</th>\n",
       "      <td>0.0</td>\n",
       "      <td>0.0</td>\n",
       "      <td>0.0</td>\n",
       "      <td>0.0</td>\n",
       "      <td>0.0</td>\n",
       "      <td>0.0</td>\n",
       "      <td>0.0</td>\n",
       "      <td>0.0</td>\n",
       "      <td>0.0</td>\n",
       "      <td>0.0</td>\n",
       "      <td>...</td>\n",
       "      <td>0.0</td>\n",
       "      <td>0.0</td>\n",
       "      <td>0.0</td>\n",
       "      <td>0.0</td>\n",
       "      <td>0.0</td>\n",
       "      <td>0.0</td>\n",
       "      <td>0.0</td>\n",
       "      <td>0.0</td>\n",
       "      <td>1</td>\n",
       "      <td>8</td>\n",
       "    </tr>\n",
       "    <tr>\n",
       "      <th>1</th>\n",
       "      <td>0.0</td>\n",
       "      <td>0.0</td>\n",
       "      <td>0.0</td>\n",
       "      <td>0.0</td>\n",
       "      <td>0.0</td>\n",
       "      <td>0.0</td>\n",
       "      <td>0.0</td>\n",
       "      <td>0.0</td>\n",
       "      <td>0.0</td>\n",
       "      <td>0.0</td>\n",
       "      <td>...</td>\n",
       "      <td>0.0</td>\n",
       "      <td>0.0</td>\n",
       "      <td>0.0</td>\n",
       "      <td>0.0</td>\n",
       "      <td>0.0</td>\n",
       "      <td>0.0</td>\n",
       "      <td>0.0</td>\n",
       "      <td>0.0</td>\n",
       "      <td>4</td>\n",
       "      <td>1</td>\n",
       "    </tr>\n",
       "    <tr>\n",
       "      <th>2</th>\n",
       "      <td>0.0</td>\n",
       "      <td>0.0</td>\n",
       "      <td>0.0</td>\n",
       "      <td>0.0</td>\n",
       "      <td>0.0</td>\n",
       "      <td>0.0</td>\n",
       "      <td>0.0</td>\n",
       "      <td>0.0</td>\n",
       "      <td>1.0</td>\n",
       "      <td>0.0</td>\n",
       "      <td>...</td>\n",
       "      <td>0.0</td>\n",
       "      <td>0.0</td>\n",
       "      <td>0.0</td>\n",
       "      <td>0.0</td>\n",
       "      <td>0.0</td>\n",
       "      <td>0.0</td>\n",
       "      <td>0.0</td>\n",
       "      <td>0.0</td>\n",
       "      <td>0</td>\n",
       "      <td>1</td>\n",
       "    </tr>\n",
       "    <tr>\n",
       "      <th>3</th>\n",
       "      <td>0.0</td>\n",
       "      <td>0.0</td>\n",
       "      <td>0.0</td>\n",
       "      <td>0.0</td>\n",
       "      <td>0.0</td>\n",
       "      <td>0.0</td>\n",
       "      <td>0.0</td>\n",
       "      <td>0.0</td>\n",
       "      <td>0.0</td>\n",
       "      <td>0.0</td>\n",
       "      <td>...</td>\n",
       "      <td>0.0</td>\n",
       "      <td>0.0</td>\n",
       "      <td>0.0</td>\n",
       "      <td>0.0</td>\n",
       "      <td>0.0</td>\n",
       "      <td>0.0</td>\n",
       "      <td>0.0</td>\n",
       "      <td>0.0</td>\n",
       "      <td>6</td>\n",
       "      <td>4</td>\n",
       "    </tr>\n",
       "    <tr>\n",
       "      <th>4</th>\n",
       "      <td>0.0</td>\n",
       "      <td>0.0</td>\n",
       "      <td>0.0</td>\n",
       "      <td>0.0</td>\n",
       "      <td>0.0</td>\n",
       "      <td>0.0</td>\n",
       "      <td>0.0</td>\n",
       "      <td>0.0</td>\n",
       "      <td>0.0</td>\n",
       "      <td>0.0</td>\n",
       "      <td>...</td>\n",
       "      <td>0.0</td>\n",
       "      <td>0.0</td>\n",
       "      <td>0.0</td>\n",
       "      <td>0.0</td>\n",
       "      <td>0.0</td>\n",
       "      <td>0.0</td>\n",
       "      <td>0.0</td>\n",
       "      <td>0.0</td>\n",
       "      <td>3</td>\n",
       "      <td>7</td>\n",
       "    </tr>\n",
       "  </tbody>\n",
       "</table>\n",
       "<p>5 rows × 9986 columns</p>\n",
       "</div>"
      ],
      "text/plain": [
       "   away_team_ARI  away_team_ATL  away_team_BAL  away_team_BOS  away_team_CHA  \\\n",
       "0            0.0            0.0            0.0            0.0            0.0   \n",
       "1            0.0            0.0            0.0            0.0            0.0   \n",
       "2            0.0            0.0            0.0            0.0            0.0   \n",
       "3            0.0            0.0            0.0            0.0            0.0   \n",
       "4            0.0            0.0            0.0            0.0            0.0   \n",
       "\n",
       "   away_team_CHN  away_team_CIN  away_team_CLE  away_team_COL  away_team_DET  \\\n",
       "0            0.0            0.0            0.0            0.0            0.0   \n",
       "1            0.0            0.0            0.0            0.0            0.0   \n",
       "2            0.0            0.0            0.0            1.0            0.0   \n",
       "3            0.0            0.0            0.0            0.0            0.0   \n",
       "4            0.0            0.0            0.0            0.0            0.0   \n",
       "\n",
       "   ...  away_9_id_yarbr001  away_9_id_yastm001  away_9_id_ynoah001  \\\n",
       "0  ...                 0.0                 0.0                 0.0   \n",
       "1  ...                 0.0                 0.0                 0.0   \n",
       "2  ...                 0.0                 0.0                 0.0   \n",
       "3  ...                 0.0                 0.0                 0.0   \n",
       "4  ...                 0.0                 0.0                 0.0   \n",
       "\n",
       "   away_9_id_youna002  away_9_id_zavas001  away_9_id_zimmb001  \\\n",
       "0                 0.0                 0.0                 0.0   \n",
       "1                 0.0                 0.0                 0.0   \n",
       "2                 0.0                 0.0                 0.0   \n",
       "3                 0.0                 0.0                 0.0   \n",
       "4                 0.0                 0.0                 0.0   \n",
       "\n",
       "   away_9_id_zimmb002  away_9_id_zunim001  away_score  home_score  \n",
       "0                 0.0                 0.0           1           8  \n",
       "1                 0.0                 0.0           4           1  \n",
       "2                 0.0                 0.0           0           1  \n",
       "3                 0.0                 0.0           6           4  \n",
       "4                 0.0                 0.0           3           7  \n",
       "\n",
       "[5 rows x 9986 columns]"
      ]
     },
     "execution_count": 11,
     "metadata": {},
     "output_type": "execute_result"
    }
   ],
   "source": [
    "# Define features set X by selecting all columns but IS_SUCCESSFUL\n",
    "X = encoded_df.drop(columns = 'outcome')\n",
    "\n",
    "# Review the features DataFrame\n",
    "X.head()\n"
   ]
  },
  {
   "cell_type": "code",
   "execution_count": 12,
   "metadata": {},
   "outputs": [],
   "source": [
    "# Split the preprocessed data into a training and testing dataset\n",
    "X_train, X_test, y_train, y_test = train_test_split(X, y, random_state=50)\n"
   ]
  },
  {
   "cell_type": "code",
   "execution_count": 13,
   "metadata": {},
   "outputs": [],
   "source": [
    "# Create a StandardScaler instance\n",
    "scaler = StandardScaler()\n",
    "\n",
    "# Fit the scaler to the features training dataset\n",
    "scaler.fit(X_train)\n",
    "\n",
    "# Scale both the training and testing data from the features dataset\n",
    "X_train_scaled = scaler.transform(X_train)\n",
    "X_test_scaled = scaler.transform(X_test)\n"
   ]
  },
  {
   "cell_type": "code",
   "execution_count": 14,
   "metadata": {},
   "outputs": [
    {
     "data": {
      "text/plain": [
       "9986"
      ]
     },
     "execution_count": 14,
     "metadata": {},
     "output_type": "execute_result"
    }
   ],
   "source": [
    "# Define the the number of inputs (features) to the model\n",
    "number_inputs = 9986\n",
    "\n",
    "# Review the number of features\n",
    "number_inputs"
   ]
  },
  {
   "cell_type": "code",
   "execution_count": 15,
   "metadata": {},
   "outputs": [],
   "source": [
    "# Define the number of neurons in the output layer\n",
    "number_outputs = 1"
   ]
  },
  {
   "cell_type": "code",
   "execution_count": 16,
   "metadata": {},
   "outputs": [
    {
     "data": {
      "text/plain": [
       "40"
      ]
     },
     "execution_count": 16,
     "metadata": {},
     "output_type": "execute_result"
    }
   ],
   "source": [
    "# Define the number of hidden nodes for the first hidden layer\n",
    "hidden_nodes_layer1 = 40\n",
    "\n",
    "# Review the number hidden nodes in the first layer\n",
    "hidden_nodes_layer1\n"
   ]
  },
  {
   "cell_type": "code",
   "execution_count": 17,
   "metadata": {},
   "outputs": [
    {
     "data": {
      "text/plain": [
       "13"
      ]
     },
     "execution_count": 17,
     "metadata": {},
     "output_type": "execute_result"
    }
   ],
   "source": [
    "# Define the number of hidden nodes for the second hidden layer\n",
    "hidden_nodes_layer2 =  13\n",
    "\n",
    "# Review the number hidden nodes in the second layer\n",
    "hidden_nodes_layer2\n"
   ]
  },
  {
   "cell_type": "code",
   "execution_count": 18,
   "metadata": {},
   "outputs": [],
   "source": [
    "# Create the Sequential model instance\n",
    "nn = Sequential()\n"
   ]
  },
  {
   "cell_type": "code",
   "execution_count": 19,
   "metadata": {},
   "outputs": [],
   "source": [
    "# Add the first hidden layer\n",
    "nn.add(Dense(units=hidden_nodes_layer1, input_dim=number_inputs, activation=\"relu\"))\n"
   ]
  },
  {
   "cell_type": "code",
   "execution_count": 20,
   "metadata": {},
   "outputs": [],
   "source": [
    "# Add the second hidden layer\n",
    "nn.add(Dense(units=hidden_nodes_layer2, activation=\"relu\"))\n"
   ]
  },
  {
   "cell_type": "code",
   "execution_count": 21,
   "metadata": {},
   "outputs": [],
   "source": [
    "# Add the output layer to the model specifying the number of output neurons and activation function\n",
    "nn.add(Dense(number_outputs, activation=\"relu\"))\n"
   ]
  },
  {
   "cell_type": "code",
   "execution_count": 22,
   "metadata": {
    "tags": []
   },
   "outputs": [
    {
     "name": "stdout",
     "output_type": "stream",
     "text": [
      "Model: \"sequential\"\n",
      "_________________________________________________________________\n",
      " Layer (type)                Output Shape              Param #   \n",
      "=================================================================\n",
      " dense (Dense)               (None, 40)                399480    \n",
      "                                                                 \n",
      " dense_1 (Dense)             (None, 13)                533       \n",
      "                                                                 \n",
      " dense_2 (Dense)             (None, 1)                 14        \n",
      "                                                                 \n",
      "=================================================================\n",
      "Total params: 400,027\n",
      "Trainable params: 400,027\n",
      "Non-trainable params: 0\n",
      "_________________________________________________________________\n"
     ]
    }
   ],
   "source": [
    "# Display the Sequential model summary\n",
    "nn.summary()"
   ]
  },
  {
   "cell_type": "code",
   "execution_count": 23,
   "metadata": {},
   "outputs": [],
   "source": [
    "# Compile the Sequential model\n",
    "nn.compile(loss=\"binary_crossentropy\", optimizer=\"adam\", metrics=[\"accuracy\"])"
   ]
  },
  {
   "cell_type": "code",
   "execution_count": 24,
   "metadata": {
    "tags": []
   },
   "outputs": [
    {
     "name": "stdout",
     "output_type": "stream",
     "text": [
      "44/44 [==============================] - 2s 11ms/step - loss: 5.1651 - accuracy: 0.5022\n"
     ]
    },
    {
     "data": {
      "text/plain": [
       "<keras.callbacks.History at 0x26f906aba48>"
      ]
     },
     "execution_count": 24,
     "metadata": {},
     "output_type": "execute_result"
    }
   ],
   "source": [
    "# Fit the model using 50 epochs and the training data\n",
    "nn.fit(X_train_scaled,y_train, \n",
    "                    epochs=1,\n",
    "                    batch_size=100,\n",
    "                    shuffle=True)\n"
   ]
  },
  {
   "cell_type": "code",
   "execution_count": 25,
   "metadata": {},
   "outputs": [
    {
     "name": "stdout",
     "output_type": "stream",
     "text": [
      "45/45 - 0s - loss: 4.8298 - accuracy: 0.5372 - 297ms/epoch - 7ms/step\n",
      "Loss: 4.829827785491943, Accuracy: 0.5372303128242493\n"
     ]
    }
   ],
   "source": [
    "# Evaluate the model loss and accuracy metrics using the evaluate method and the test data\n",
    "model_loss, model_accuracy = nn.evaluate(X_test_scaled, y_test, verbose=2)\n",
    "# Display the model loss and accuracy results\n",
    "print(f\"Loss: {model_loss}, Accuracy: {model_accuracy}\")"
   ]
  },
  {
   "cell_type": "code",
   "execution_count": 27,
   "metadata": {},
   "outputs": [
    {
     "data": {
      "text/plain": [
       "9986"
      ]
     },
     "execution_count": 27,
     "metadata": {},
     "output_type": "execute_result"
    }
   ],
   "source": [
    "# Define the the number of inputs (features) to the model\n",
    "number_input_features = len(X_train.iloc[0])\n",
    "\n",
    "# Review the number of features\n",
    "number_input_features"
   ]
  },
  {
   "cell_type": "code",
   "execution_count": 28,
   "metadata": {},
   "outputs": [],
   "source": [
    "# Define the number of neurons in the output layer\n",
    "number_output_neurons_A1 = 1"
   ]
  },
  {
   "cell_type": "code",
   "execution_count": 29,
   "metadata": {},
   "outputs": [
    {
     "data": {
      "text/plain": [
       "20"
      ]
     },
     "execution_count": 29,
     "metadata": {},
     "output_type": "execute_result"
    }
   ],
   "source": [
    "# Define the number of hidden nodes for the first hidden layer\n",
    "hidden_nodes_layer1_A1 = 20\n",
    "\n",
    "# Review the number of hidden nodes in the first layer\n",
    "hidden_nodes_layer1_A1"
   ]
  },
  {
   "cell_type": "code",
   "execution_count": 30,
   "metadata": {},
   "outputs": [],
   "source": [
    "# Create the Sequential model instance\n",
    "nn_A1 = Sequential()"
   ]
  },
  {
   "cell_type": "code",
   "execution_count": 31,
   "metadata": {
    "tags": []
   },
   "outputs": [
    {
     "name": "stdout",
     "output_type": "stream",
     "text": [
      "Model: \"sequential_1\"\n",
      "_________________________________________________________________\n",
      " Layer (type)                Output Shape              Param #   \n",
      "=================================================================\n",
      " dense_3 (Dense)             (None, 20)                199740    \n",
      "                                                                 \n",
      " dense_4 (Dense)             (None, 1)                 21        \n",
      "                                                                 \n",
      "=================================================================\n",
      "Total params: 199,761\n",
      "Trainable params: 199,761\n",
      "Non-trainable params: 0\n",
      "_________________________________________________________________\n"
     ]
    }
   ],
   "source": [
    "# First hidden layer\n",
    "nn_A1.add(Dense(units=hidden_nodes_layer1_A1, input_dim=number_inputs, activation=\"relu\"))\n",
    "\n",
    "\n",
    "# Output layer\n",
    "nn_A1.add(Dense(number_output_neurons_A1, activation=\"relu\"))\n",
    "\n",
    "\n",
    "# Check the structure of the model\n",
    "nn_A1.summary()"
   ]
  },
  {
   "cell_type": "code",
   "execution_count": 32,
   "metadata": {},
   "outputs": [],
   "source": [
    "# Compile the Sequential model\n",
    "nn_A1.compile(loss=\"binary_crossentropy\", optimizer=\"adam\", metrics=[\"accuracy\"])"
   ]
  },
  {
   "cell_type": "code",
   "execution_count": null,
   "metadata": {},
   "outputs": [],
   "source": []
  },
  {
   "cell_type": "code",
   "execution_count": 33,
   "metadata": {
    "tags": []
   },
   "outputs": [
    {
     "name": "stdout",
     "output_type": "stream",
     "text": [
      "44/44 [==============================] - 1s 7ms/step - loss: 6.6247 - accuracy: 0.4874\n"
     ]
    }
   ],
   "source": [
    "# Fit the model using 50 epochs and the training data\n",
    "fit_model_A1 = nn_A1.fit(X_train_scaled,y_train, \n",
    "                    epochs=1,\n",
    "                    batch_size=100,\n",
    "                    shuffle=True)\n",
    "\n"
   ]
  },
  {
   "cell_type": "code",
   "execution_count": null,
   "metadata": {},
   "outputs": [],
   "source": []
  },
  {
   "cell_type": "code",
   "execution_count": 34,
   "metadata": {},
   "outputs": [
    {
     "data": {
      "text/plain": [
       "9986"
      ]
     },
     "execution_count": 34,
     "metadata": {},
     "output_type": "execute_result"
    }
   ],
   "source": [
    "# Define the the number of inputs (features) to the model\n",
    "number_input_features = len(X_train.iloc[0])\n",
    "\n",
    "# Review the number of features\n",
    "number_input_features"
   ]
  },
  {
   "cell_type": "code",
   "execution_count": 35,
   "metadata": {},
   "outputs": [],
   "source": [
    "# Define the number of neurons in the output layer\n",
    "number_output_neurons_A2 = 1"
   ]
  },
  {
   "cell_type": "code",
   "execution_count": 36,
   "metadata": {},
   "outputs": [],
   "source": [
    "# Define the number of hidden nodes for the first hidden layer\n",
    "hidden_nodes_layer1_A2 = 80\n",
    "hidden_nodes_layer2_A2 = 45\n",
    "hidden_nodes_layer3_A2 = 12\n",
    "# Review the number of hidden nodes in the first layer\n",
    "\n"
   ]
  },
  {
   "cell_type": "code",
   "execution_count": 37,
   "metadata": {},
   "outputs": [],
   "source": [
    "# Create the Sequential model instance\n",
    "nn_A2 = Sequential()"
   ]
  },
  {
   "cell_type": "code",
   "execution_count": 38,
   "metadata": {},
   "outputs": [
    {
     "name": "stdout",
     "output_type": "stream",
     "text": [
      "Model: \"sequential_2\"\n",
      "_________________________________________________________________\n",
      " Layer (type)                Output Shape              Param #   \n",
      "=================================================================\n",
      " dense_5 (Dense)             (None, 80)                798960    \n",
      "                                                                 \n",
      " dense_6 (Dense)             (None, 45)                3645      \n",
      "                                                                 \n",
      " dense_7 (Dense)             (None, 12)                552       \n",
      "                                                                 \n",
      " dense_8 (Dense)             (None, 1)                 13        \n",
      "                                                                 \n",
      "=================================================================\n",
      "Total params: 803,170\n",
      "Trainable params: 803,170\n",
      "Non-trainable params: 0\n",
      "_________________________________________________________________\n"
     ]
    }
   ],
   "source": [
    "# First hidden layer\n",
    "nn_A2.add(Dense(units=hidden_nodes_layer1_A2, input_dim=number_inputs, activation=\"relu\"))\n",
    "nn_A2.add(Dense(units=hidden_nodes_layer2_A2, input_dim=number_inputs, activation=\"relu\"))\n",
    "nn_A2.add(Dense(units=hidden_nodes_layer3_A2, input_dim=number_inputs, activation=\"relu\"))\n",
    "\n",
    "\n",
    "# Output layer\n",
    "nn_A2.add(Dense(number_output_neurons_A2, activation=\"relu\"))\n",
    "\n",
    "\n",
    "# Check the structure of the model\n",
    "nn_A2.summary()"
   ]
  },
  {
   "cell_type": "code",
   "execution_count": 39,
   "metadata": {},
   "outputs": [],
   "source": [
    "# Compile the model\n",
    "nn_A2.compile(loss=\"binary_crossentropy\", optimizer=\"adam\", metrics=[\"accuracy\"])"
   ]
  },
  {
   "cell_type": "code",
   "execution_count": 40,
   "metadata": {},
   "outputs": [
    {
     "name": "stdout",
     "output_type": "stream",
     "text": [
      "44/44 [==============================] - 0s 7ms/step - loss: 5.7919 - accuracy: 0.5806\n"
     ]
    }
   ],
   "source": [
    "# Fit the model\n",
    "fit_model_A2 = nn_A1.fit(X_train_scaled,y_train, \n",
    "                    epochs=1,\n",
    "                    batch_size=100,\n",
    "                    shuffle=True)\n"
   ]
  },
  {
   "cell_type": "code",
   "execution_count": 41,
   "metadata": {},
   "outputs": [
    {
     "name": "stdout",
     "output_type": "stream",
     "text": [
      "Original Model Results\n",
      "45/45 - 0s - loss: 4.8298 - accuracy: 0.5372 - 186ms/epoch - 4ms/step\n",
      "Loss: 4.829827785491943, Accuracy: 0.5372303128242493\n"
     ]
    }
   ],
   "source": [
    "print(\"Original Model Results\")\n",
    "\n",
    "# Evaluate the model loss and accuracy metrics using the evaluate method and the test data\n",
    "model_loss, model_accuracy = nn.evaluate(X_test_scaled, y_test, verbose=2)\n",
    "\n",
    "# Display the model loss and accuracy results\n",
    "print(f\"Loss: {model_loss}, Accuracy: {model_accuracy}\")"
   ]
  },
  {
   "cell_type": "code",
   "execution_count": 42,
   "metadata": {},
   "outputs": [
    {
     "name": "stdout",
     "output_type": "stream",
     "text": [
      "Alternative Model 1 Results\n",
      "45/45 - 0s - loss: 6.6134 - accuracy: 0.5094 - 259ms/epoch - 6ms/step\n",
      "Loss: 6.613367080688477, Accuracy: 0.5093945860862732\n"
     ]
    }
   ],
   "source": [
    "print(\"Alternative Model 1 Results\")\n",
    "\n",
    "model_loss, model_accuracy = nn_A1.evaluate(X_test_scaled, y_test, verbose=2)\n",
    "\n",
    "# Display the model loss and accuracy results\n",
    "print(f\"Loss: {model_loss}, Accuracy: {model_accuracy}\")"
   ]
  },
  {
   "cell_type": "code",
   "execution_count": 43,
   "metadata": {},
   "outputs": [
    {
     "name": "stdout",
     "output_type": "stream",
     "text": [
      "Alternative Model 2 Results\n",
      "45/45 - 0s - loss: 6.8021 - accuracy: 0.4656 - 379ms/epoch - 8ms/step\n",
      "Loss: 6.802117824554443, Accuracy: 0.4655532240867615\n"
     ]
    }
   ],
   "source": [
    "print(\"Alternative Model 2 Results\")\n",
    "\n",
    "# Evaluate the model loss and accuracy metrics using the evaluate method and the test data\n",
    "model_loss, model_accuracy = nn_A2.evaluate(X_test_scaled, y_test, verbose=2)\n",
    "\n",
    "# Display the model loss and accuracy results\n",
    "print(f\"Loss: {model_loss}, Accuracy: {model_accuracy}\")"
   ]
  },
  {
   "cell_type": "code",
   "execution_count": 44,
   "metadata": {},
   "outputs": [],
   "source": [
    "# Set the file path for the first alternative model\n",
    "file_path_A1 = Path(\"AlphabetSoup2.h5\")\n",
    "\n",
    "# Export your model to a HDF5 file\n",
    "nn_A1.save(file_path_A1)"
   ]
  },
  {
   "cell_type": "code",
   "execution_count": 45,
   "metadata": {},
   "outputs": [],
   "source": [
    "# Set the file path for the second alternative model\n",
    "file_path_A2 = Path(\"AlphabetSoup3.h5\")\n",
    "\n",
    "# Export your model to a HDF5 file\n",
    "nn_A2.save(file_path_A2)"
   ]
  },
  {
   "cell_type": "code",
   "execution_count": 47,
   "metadata": {},
   "outputs": [],
   "source": [
    "#XG Boost"
   ]
  },
  {
   "cell_type": "code",
   "execution_count": 48,
   "metadata": {},
   "outputs": [],
   "source": [
    "import math\n",
    "from sklearn.linear_model import LogisticRegressionCV\n"
   ]
  },
  {
   "cell_type": "code",
   "execution_count": 50,
   "metadata": {},
   "outputs": [],
   "source": [
    "import xgboost as xgb\n",
    "# create an XGBoost model object\n",
    "xgb_model = xgb.XGBClassifier()\n",
    "\n",
    "# fit the model to the training data\n",
    "xgb_model.fit(X_train_scaled, y_train)\n",
    "\n",
    "# make predictions on the test data\n",
    "xgb_pred = xgb_model.predict(X_test_scaled)\n"
   ]
  },
  {
   "cell_type": "code",
   "execution_count": 51,
   "metadata": {},
   "outputs": [
    {
     "name": "stdout",
     "output_type": "stream",
     "text": [
      "Accuracy: 100.00%\n",
      "Classification Report:\n",
      "               precision    recall  f1-score   support\n",
      "\n",
      "           0       1.00      1.00      1.00       653\n",
      "           1       1.00      1.00      1.00       784\n",
      "\n",
      "    accuracy                           1.00      1437\n",
      "   macro avg       1.00      1.00      1.00      1437\n",
      "weighted avg       1.00      1.00      1.00      1437\n",
      "\n"
     ]
    }
   ],
   "source": [
    "from sklearn import metrics\n",
    "\n",
    "# calculate accuracy on the test data\n",
    "accuracy = metrics.accuracy_score(y_test, xgb_pred)\n",
    "print(\"Accuracy: {:.2f}%\".format(accuracy*100))\n",
    "\n",
    "# get a summary of the performance\n",
    "report = metrics.classification_report(y_test, xgb_pred)\n",
    "print(\"Classification Report:\\n\", report)\n"
   ]
  },
  {
   "cell_type": "code",
   "execution_count": 52,
   "metadata": {},
   "outputs": [
    {
     "name": "stdout",
     "output_type": "stream",
     "text": [
      "Accuracy: 0.9951287404314544\n"
     ]
    }
   ],
   "source": [
    "from sklearn.ensemble import GradientBoostingClassifier\n",
    "from sklearn.metrics import accuracy_score\n",
    "\n",
    "# create a GBM model object\n",
    "gbm_model = GradientBoostingClassifier()\n",
    "\n",
    "# fit the model to the training data\n",
    "gbm_model.fit(X_train, y_train)\n",
    "\n",
    "# make predictions on the test data\n",
    "gbc_pred = gbm_model.predict(X_test_scaled)\n",
    "\n",
    "# evaluate the accuracy of the model\n",
    "accuracy = accuracy_score(y_test, gbc_pred)\n",
    "print(\"Accuracy:\", accuracy)\n"
   ]
  },
  {
   "cell_type": "code",
   "execution_count": null,
   "metadata": {},
   "outputs": [],
   "source": [
    "from sklearn.model_selection import GridSearchCV\n",
    "from sklearn.ensemble import GradientBoostingClassifier\n",
    "from sklearn.metrics import accuracy_score\n",
    "\n",
    "# Split the data into training and testing sets\n",
    "X_train, X_test, y_train, y_test = train_test_split(X, y, random_state=50)\n",
    "\n",
    "# Define the parameter grid for the grid search\n",
    "param_grid = {\n",
    "    'learning_rate': [0.05, 0.1],\n",
    "    'n_estimators': [100, 500],\n",
    "    'max_depth': [3, 5],\n",
    "    'subsample': [0.8, 1.0],\n",
    "    'min_samples_split': [2, 5],\n",
    "    'min_samples_leaf': [1, 2]\n",
    "}\n",
    "\n",
    "# Create the GBM model object\n",
    "gbm_model = GradientBoostingClassifier()\n",
    "\n",
    "# Use GridSearchCV to find the best hyperparameters\n",
    "grid_search = GridSearchCV(gbm_model, param_grid, cv=5)\n",
    "grid_search.fit(X_train, y_train)\n",
    "\n",
    "# Train the model with the best hyperparameters\n",
    "gbm_model = grid_search.best_estimator_\n",
    "gbm_model.fit(X_train, y_train)\n",
    "\n",
    "# Make predictions on the testing data\n",
    "y_pred = gbm_model.predict(X_test)\n",
    "\n",
    "# Print the accuracy score\n",
    "print('Accuracy score: {:.4f}'.format(accuracy_score(y_test, y_pred)))\n"
   ]
  },
  {
   "cell_type": "code",
   "execution_count": null,
   "metadata": {},
   "outputs": [],
   "source": []
  }
 ],
 "metadata": {
  "kernelspec": {
   "display_name": "Python 3 (ipykernel)",
   "language": "python",
   "name": "python3"
  },
  "language_info": {
   "codemirror_mode": {
    "name": "ipython",
    "version": 3
   },
   "file_extension": ".py",
   "mimetype": "text/x-python",
   "name": "python",
   "nbconvert_exporter": "python",
   "pygments_lexer": "ipython3",
   "version": "3.7.13"
  }
 },
 "nbformat": 4,
 "nbformat_minor": 4
}
